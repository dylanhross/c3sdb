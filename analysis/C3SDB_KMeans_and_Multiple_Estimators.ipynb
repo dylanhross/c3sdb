{
 "cells": [
  {
   "cell_type": "markdown",
   "metadata": {},
   "source": [
    "## K-Means and Multiple Estimators\n",
    "### Examine use of K-Means clustering then fitting individual clusters with their own estimators\n",
    "#### Dylan H. Ross"
   ]
  },
  {
   "cell_type": "code",
   "execution_count": 137,
   "metadata": {},
   "outputs": [],
   "source": [
    "# setup...\n",
    "%matplotlib inline\n",
    "%config InlineBackend.figure_format = 'retina'\n",
    "from matplotlib import pyplot as plt\n",
    "from sklearn.base import BaseEstimator, RegressorMixin, clone\n",
    "from sklearn.cluster import KMeans\n",
    "from sklearn.linear_model import LinearRegression, Lasso\n",
    "from sklearn.svm import SVR\n",
    "from sklearn.ensemble import RandomForestRegressor\n",
    "from sklearn.model_selection import GridSearchCV\n",
    "from numpy import argwhere, array\n",
    "from itertools import product\n",
    "\n",
    "from C3SData.data import C3SD\n",
    "\n",
    "# set an initial pRNG seed, increment for each individual trial  \n",
    "pRNGs = 1234"
   ]
  },
  {
   "cell_type": "markdown",
   "metadata": {},
   "source": [
    "### KMCMulti  estimator\n",
    "An `sklearn` estimator that uses K-means clustering to perform untargeted classification on the dataset, then trains individual estimators for each of the cluster datasets. "
   ]
  },
  {
   "cell_type": "code",
   "execution_count": 139,
   "metadata": {},
   "outputs": [],
   "source": [
    "class KMCMulti(BaseEstimator, RegressorMixin):\n",
    "    \"\"\"\n",
    "KMCMulti\n",
    "    description:\n",
    "        TODO\n",
    "\"\"\"\n",
    "    \n",
    "    def __init__(self, seed=69, n_clusters=3, use_estimator=None, estimator_params=None):\n",
    "        \"\"\"\n",
    "KMCMulti.__init__\n",
    "    description:\n",
    "        TODO\n",
    "    parameters:\n",
    "        [seed (int)] -- pRNG seed [optional, default=69]\n",
    "        [n_clusters (int)] -- the number of clusters to fit [optional, default=3]\n",
    "        [use_estimator (sklearn Regressor)] -- instance of individual estimator to use on each cluster \n",
    "                                               [optional, default=None]\n",
    "        [estimator_params (list(dict(...)))] -- parameters to initialize each estimator with \n",
    "                                                [optional, default=None]\n",
    "\"\"\"\n",
    "        self.seed = seed\n",
    "        self.n_clusters = n_clusters\n",
    "        self.use_estimator = use_estimator\n",
    "        self.estimator_params = estimator_params\n",
    "\n",
    "        \n",
    "    def fit(self, X, y):\n",
    "        \"\"\"\n",
    "KMCMulti.fit\n",
    "    description:\n",
    "        TODO\n",
    "    parameters:\n",
    "        X (array-like) -- features \n",
    "        y (array-like) -- targets\n",
    "    returns: \n",
    "        () -- \n",
    "\"\"\"\n",
    "        # first fit the KMeans clustering model\n",
    "        self.kmeans_ = KMeans(n_clusters=self.n_clusters, random_state=self.seed)\n",
    "        self.kmeans_.fit(X)\n",
    "        \n",
    "        # split up the datasets by cluster\n",
    "        cluster_X = [X[argwhere(self.kmeans_.labels_ == i).ravel()] for i in range(self.n_clusters)]\n",
    "        cluster_y = [y[argwhere(self.kmeans_.labels_ == i).ravel()] for i in range(self.n_clusters)]\n",
    "        \n",
    "        # store the number of samples in each cluster\n",
    "        self.cluster_sizes_ = [_.shape[0] for _ in cluster_X]\n",
    "        \n",
    "        # initialize individual estimators with their associated parameters\n",
    "        self.estimators_ = [clone(self.use_estimator) for _ in range(self.n_clusters)]\n",
    "        for est, p in zip(self.estimators_, self.estimator_params):\n",
    "            est.set_params(**p)\n",
    "        #self.estimators_ = [self.use_estimator(p) for _, p in zip(range(self.n_clusters), self.estimator_params)]\n",
    "        \n",
    "        # fit individual estimators with cluster data\n",
    "        for est, cx, cy in zip(self.estimators_, cluster_X, cluster_y):\n",
    "            est.fit(cx, cy)\n",
    "        \n",
    "        # return the fitted regressor\n",
    "        return self\n",
    "        \n",
    "\n",
    "    def predict(self, X):\n",
    "        \"\"\"\n",
    "KMCMulti.predict\n",
    "    description:\n",
    "        TODO\n",
    "    parameters:\n",
    "        X (array-like) -- features\n",
    "    returns:\n",
    "        (numpy.ndarray) -- predictions \n",
    "\"\"\"\n",
    "        return array([self.estimators_[self.kmeans_.predict(x.reshape(1, -1))[0]].predict(x.reshape(1, -1))[0] for x in X])\n",
    "    "
   ]
  },
  {
   "cell_type": "code",
   "execution_count": 129,
   "metadata": {},
   "outputs": [],
   "source": [
    "kmcm = KMCMulti(seed=1234, n_clusters=3, \n",
    "                use_estimator=LinearRegression(n_jobs=-1), \n",
    "                estimator_params=[{}, {}, {}])"
   ]
  },
  {
   "cell_type": "code",
   "execution_count": 130,
   "metadata": {},
   "outputs": [
    {
     "data": {
      "text/plain": [
       "KMCMulti(estimator_params=[{}, {}, {}], n_clusters=3, seed=1234,\n",
       "     use_estimator=LinearRegression(copy_X=True, fit_intercept=True, n_jobs=-1, normalize=False))"
      ]
     },
     "execution_count": 130,
     "metadata": {},
     "output_type": "execute_result"
    }
   ],
   "source": [
    "kmcm"
   ]
  },
  {
   "cell_type": "code",
   "execution_count": 16,
   "metadata": {},
   "outputs": [],
   "source": [
    "d = C3SD('C3S.db', seed=1234)\n",
    "d.featurize()\n",
    "d.train_test_split('ccs')\n",
    "d.center_and_scale()"
   ]
  },
  {
   "cell_type": "code",
   "execution_count": 23,
   "metadata": {},
   "outputs": [
    {
     "name": "stdout",
     "output_type": "stream",
     "text": [
      "6042\n",
      "4833\n",
      "1209\n"
     ]
    }
   ],
   "source": [
    "print(d.N_)\n",
    "print(d.N_train_)\n",
    "print(d.N_test_)"
   ]
  },
  {
   "cell_type": "code",
   "execution_count": 131,
   "metadata": {},
   "outputs": [
    {
     "data": {
      "text/plain": [
       "KMCMulti(estimator_params=[{}, {}, {}], n_clusters=3, seed=1234,\n",
       "     use_estimator=LinearRegression(copy_X=True, fit_intercept=True, n_jobs=-1, normalize=False))"
      ]
     },
     "execution_count": 131,
     "metadata": {},
     "output_type": "execute_result"
    }
   ],
   "source": [
    "kmcm.fit(d.X_train_ss_, d.y_train_)"
   ]
  },
  {
   "cell_type": "code",
   "execution_count": 132,
   "metadata": {},
   "outputs": [
    {
     "data": {
      "text/plain": [
       "array([167.24608459, 171.32420959, 119.27733459, ..., 213.84179688,\n",
       "       316.67503738, 173.68358459])"
      ]
     },
     "execution_count": 132,
     "metadata": {},
     "output_type": "execute_result"
    }
   ],
   "source": [
    "kmcm.predict(d.X_train_ss_)"
   ]
  },
  {
   "cell_type": "markdown",
   "metadata": {},
   "source": [
    "Need a helper function to be able to more easily set up the parameter grid for doing grid search hyperparameter optimization. The final parameter grid should look something like this:\n",
    "```\n",
    "p_grid = [\n",
    "    {\n",
    "        'n_clusters': 2,\n",
    "        'est_params': [\n",
    "                        [{...}, {...}], \n",
    "                        [{...}, {...}], \n",
    "                        ... \n",
    "                      ]\n",
    "    },\n",
    "    {\n",
    "        'n_clusters': 3,\n",
    "        'est_params': [\n",
    "                        [{...}, {...}, {...}], \n",
    "                        [{...}, {...}, {...}], \n",
    "                        ... \n",
    "                      ]\n",
    "    },\n",
    "    ...\n",
    "]\n",
    "```"
   ]
  },
  {
   "cell_type": "code",
   "execution_count": 157,
   "metadata": {},
   "outputs": [],
   "source": [
    "def gen_kmcm_p_grid(n_clusters, est_params):\n",
    "    \"\"\"\n",
    "gen_kmcm_p_grid\n",
    "    description:\n",
    "        generates a parameter grid that can be used with GridSearchCV for hyperparameter tuning\n",
    "    parameters:\n",
    "        n_clusters (list(int)) -- list of values to try for n_clusters\n",
    "        est_params (dict(str:list(...))) -- values to try for individual estimator parameters, in\n",
    "                                            the style of the parameter grid used for GridSearchCV\n",
    "    returns:\n",
    "        (list(dict(...))) -- parameter grid for use with GridSearchCV\n",
    "\"\"\"\n",
    "    # all permutations of the estimator parameters\n",
    "    perms = []\n",
    "    keys, values = zip(*est_params.items())\n",
    "    for v in product(*values):\n",
    "        perms.append(dict(zip(keys, v)))\n",
    "        \n",
    "    print(perms)\n",
    " \n",
    "    # parameter grid\n",
    "    pg = []\n",
    "    for nc in n_clusters:\n",
    "        \n",
    "        n_perms = [perms for _ in range(nc)]\n",
    "        \n",
    "        pg.append({'n_clusters': [nc], 'estimator_params': [list(_) for _ in product(*n_perms)]})\n",
    "            \n",
    "            \n",
    "            \n",
    "                       \n",
    "    \n",
    "    return pg\n",
    "    "
   ]
  },
  {
   "cell_type": "code",
   "execution_count": 158,
   "metadata": {},
   "outputs": [
    {
     "name": "stdout",
     "output_type": "stream",
     "text": [
      "[{'alpha': 0.1}, {'alpha': 0.3}, {'alpha': 0.5}]\n"
     ]
    },
    {
     "data": {
      "text/plain": [
       "[{'n_clusters': [2],\n",
       "  'estimator_params': [[{'alpha': 0.1}, {'alpha': 0.1}],\n",
       "   [{'alpha': 0.1}, {'alpha': 0.3}],\n",
       "   [{'alpha': 0.1}, {'alpha': 0.5}],\n",
       "   [{'alpha': 0.3}, {'alpha': 0.1}],\n",
       "   [{'alpha': 0.3}, {'alpha': 0.3}],\n",
       "   [{'alpha': 0.3}, {'alpha': 0.5}],\n",
       "   [{'alpha': 0.5}, {'alpha': 0.1}],\n",
       "   [{'alpha': 0.5}, {'alpha': 0.3}],\n",
       "   [{'alpha': 0.5}, {'alpha': 0.5}]]},\n",
       " {'n_clusters': [3],\n",
       "  'estimator_params': [[{'alpha': 0.1}, {'alpha': 0.1}, {'alpha': 0.1}],\n",
       "   [{'alpha': 0.1}, {'alpha': 0.1}, {'alpha': 0.3}],\n",
       "   [{'alpha': 0.1}, {'alpha': 0.1}, {'alpha': 0.5}],\n",
       "   [{'alpha': 0.1}, {'alpha': 0.3}, {'alpha': 0.1}],\n",
       "   [{'alpha': 0.1}, {'alpha': 0.3}, {'alpha': 0.3}],\n",
       "   [{'alpha': 0.1}, {'alpha': 0.3}, {'alpha': 0.5}],\n",
       "   [{'alpha': 0.1}, {'alpha': 0.5}, {'alpha': 0.1}],\n",
       "   [{'alpha': 0.1}, {'alpha': 0.5}, {'alpha': 0.3}],\n",
       "   [{'alpha': 0.1}, {'alpha': 0.5}, {'alpha': 0.5}],\n",
       "   [{'alpha': 0.3}, {'alpha': 0.1}, {'alpha': 0.1}],\n",
       "   [{'alpha': 0.3}, {'alpha': 0.1}, {'alpha': 0.3}],\n",
       "   [{'alpha': 0.3}, {'alpha': 0.1}, {'alpha': 0.5}],\n",
       "   [{'alpha': 0.3}, {'alpha': 0.3}, {'alpha': 0.1}],\n",
       "   [{'alpha': 0.3}, {'alpha': 0.3}, {'alpha': 0.3}],\n",
       "   [{'alpha': 0.3}, {'alpha': 0.3}, {'alpha': 0.5}],\n",
       "   [{'alpha': 0.3}, {'alpha': 0.5}, {'alpha': 0.1}],\n",
       "   [{'alpha': 0.3}, {'alpha': 0.5}, {'alpha': 0.3}],\n",
       "   [{'alpha': 0.3}, {'alpha': 0.5}, {'alpha': 0.5}],\n",
       "   [{'alpha': 0.5}, {'alpha': 0.1}, {'alpha': 0.1}],\n",
       "   [{'alpha': 0.5}, {'alpha': 0.1}, {'alpha': 0.3}],\n",
       "   [{'alpha': 0.5}, {'alpha': 0.1}, {'alpha': 0.5}],\n",
       "   [{'alpha': 0.5}, {'alpha': 0.3}, {'alpha': 0.1}],\n",
       "   [{'alpha': 0.5}, {'alpha': 0.3}, {'alpha': 0.3}],\n",
       "   [{'alpha': 0.5}, {'alpha': 0.3}, {'alpha': 0.5}],\n",
       "   [{'alpha': 0.5}, {'alpha': 0.5}, {'alpha': 0.1}],\n",
       "   [{'alpha': 0.5}, {'alpha': 0.5}, {'alpha': 0.3}],\n",
       "   [{'alpha': 0.5}, {'alpha': 0.5}, {'alpha': 0.5}]]},\n",
       " {'n_clusters': [4],\n",
       "  'estimator_params': [[{'alpha': 0.1},\n",
       "    {'alpha': 0.1},\n",
       "    {'alpha': 0.1},\n",
       "    {'alpha': 0.1}],\n",
       "   [{'alpha': 0.1}, {'alpha': 0.1}, {'alpha': 0.1}, {'alpha': 0.3}],\n",
       "   [{'alpha': 0.1}, {'alpha': 0.1}, {'alpha': 0.1}, {'alpha': 0.5}],\n",
       "   [{'alpha': 0.1}, {'alpha': 0.1}, {'alpha': 0.3}, {'alpha': 0.1}],\n",
       "   [{'alpha': 0.1}, {'alpha': 0.1}, {'alpha': 0.3}, {'alpha': 0.3}],\n",
       "   [{'alpha': 0.1}, {'alpha': 0.1}, {'alpha': 0.3}, {'alpha': 0.5}],\n",
       "   [{'alpha': 0.1}, {'alpha': 0.1}, {'alpha': 0.5}, {'alpha': 0.1}],\n",
       "   [{'alpha': 0.1}, {'alpha': 0.1}, {'alpha': 0.5}, {'alpha': 0.3}],\n",
       "   [{'alpha': 0.1}, {'alpha': 0.1}, {'alpha': 0.5}, {'alpha': 0.5}],\n",
       "   [{'alpha': 0.1}, {'alpha': 0.3}, {'alpha': 0.1}, {'alpha': 0.1}],\n",
       "   [{'alpha': 0.1}, {'alpha': 0.3}, {'alpha': 0.1}, {'alpha': 0.3}],\n",
       "   [{'alpha': 0.1}, {'alpha': 0.3}, {'alpha': 0.1}, {'alpha': 0.5}],\n",
       "   [{'alpha': 0.1}, {'alpha': 0.3}, {'alpha': 0.3}, {'alpha': 0.1}],\n",
       "   [{'alpha': 0.1}, {'alpha': 0.3}, {'alpha': 0.3}, {'alpha': 0.3}],\n",
       "   [{'alpha': 0.1}, {'alpha': 0.3}, {'alpha': 0.3}, {'alpha': 0.5}],\n",
       "   [{'alpha': 0.1}, {'alpha': 0.3}, {'alpha': 0.5}, {'alpha': 0.1}],\n",
       "   [{'alpha': 0.1}, {'alpha': 0.3}, {'alpha': 0.5}, {'alpha': 0.3}],\n",
       "   [{'alpha': 0.1}, {'alpha': 0.3}, {'alpha': 0.5}, {'alpha': 0.5}],\n",
       "   [{'alpha': 0.1}, {'alpha': 0.5}, {'alpha': 0.1}, {'alpha': 0.1}],\n",
       "   [{'alpha': 0.1}, {'alpha': 0.5}, {'alpha': 0.1}, {'alpha': 0.3}],\n",
       "   [{'alpha': 0.1}, {'alpha': 0.5}, {'alpha': 0.1}, {'alpha': 0.5}],\n",
       "   [{'alpha': 0.1}, {'alpha': 0.5}, {'alpha': 0.3}, {'alpha': 0.1}],\n",
       "   [{'alpha': 0.1}, {'alpha': 0.5}, {'alpha': 0.3}, {'alpha': 0.3}],\n",
       "   [{'alpha': 0.1}, {'alpha': 0.5}, {'alpha': 0.3}, {'alpha': 0.5}],\n",
       "   [{'alpha': 0.1}, {'alpha': 0.5}, {'alpha': 0.5}, {'alpha': 0.1}],\n",
       "   [{'alpha': 0.1}, {'alpha': 0.5}, {'alpha': 0.5}, {'alpha': 0.3}],\n",
       "   [{'alpha': 0.1}, {'alpha': 0.5}, {'alpha': 0.5}, {'alpha': 0.5}],\n",
       "   [{'alpha': 0.3}, {'alpha': 0.1}, {'alpha': 0.1}, {'alpha': 0.1}],\n",
       "   [{'alpha': 0.3}, {'alpha': 0.1}, {'alpha': 0.1}, {'alpha': 0.3}],\n",
       "   [{'alpha': 0.3}, {'alpha': 0.1}, {'alpha': 0.1}, {'alpha': 0.5}],\n",
       "   [{'alpha': 0.3}, {'alpha': 0.1}, {'alpha': 0.3}, {'alpha': 0.1}],\n",
       "   [{'alpha': 0.3}, {'alpha': 0.1}, {'alpha': 0.3}, {'alpha': 0.3}],\n",
       "   [{'alpha': 0.3}, {'alpha': 0.1}, {'alpha': 0.3}, {'alpha': 0.5}],\n",
       "   [{'alpha': 0.3}, {'alpha': 0.1}, {'alpha': 0.5}, {'alpha': 0.1}],\n",
       "   [{'alpha': 0.3}, {'alpha': 0.1}, {'alpha': 0.5}, {'alpha': 0.3}],\n",
       "   [{'alpha': 0.3}, {'alpha': 0.1}, {'alpha': 0.5}, {'alpha': 0.5}],\n",
       "   [{'alpha': 0.3}, {'alpha': 0.3}, {'alpha': 0.1}, {'alpha': 0.1}],\n",
       "   [{'alpha': 0.3}, {'alpha': 0.3}, {'alpha': 0.1}, {'alpha': 0.3}],\n",
       "   [{'alpha': 0.3}, {'alpha': 0.3}, {'alpha': 0.1}, {'alpha': 0.5}],\n",
       "   [{'alpha': 0.3}, {'alpha': 0.3}, {'alpha': 0.3}, {'alpha': 0.1}],\n",
       "   [{'alpha': 0.3}, {'alpha': 0.3}, {'alpha': 0.3}, {'alpha': 0.3}],\n",
       "   [{'alpha': 0.3}, {'alpha': 0.3}, {'alpha': 0.3}, {'alpha': 0.5}],\n",
       "   [{'alpha': 0.3}, {'alpha': 0.3}, {'alpha': 0.5}, {'alpha': 0.1}],\n",
       "   [{'alpha': 0.3}, {'alpha': 0.3}, {'alpha': 0.5}, {'alpha': 0.3}],\n",
       "   [{'alpha': 0.3}, {'alpha': 0.3}, {'alpha': 0.5}, {'alpha': 0.5}],\n",
       "   [{'alpha': 0.3}, {'alpha': 0.5}, {'alpha': 0.1}, {'alpha': 0.1}],\n",
       "   [{'alpha': 0.3}, {'alpha': 0.5}, {'alpha': 0.1}, {'alpha': 0.3}],\n",
       "   [{'alpha': 0.3}, {'alpha': 0.5}, {'alpha': 0.1}, {'alpha': 0.5}],\n",
       "   [{'alpha': 0.3}, {'alpha': 0.5}, {'alpha': 0.3}, {'alpha': 0.1}],\n",
       "   [{'alpha': 0.3}, {'alpha': 0.5}, {'alpha': 0.3}, {'alpha': 0.3}],\n",
       "   [{'alpha': 0.3}, {'alpha': 0.5}, {'alpha': 0.3}, {'alpha': 0.5}],\n",
       "   [{'alpha': 0.3}, {'alpha': 0.5}, {'alpha': 0.5}, {'alpha': 0.1}],\n",
       "   [{'alpha': 0.3}, {'alpha': 0.5}, {'alpha': 0.5}, {'alpha': 0.3}],\n",
       "   [{'alpha': 0.3}, {'alpha': 0.5}, {'alpha': 0.5}, {'alpha': 0.5}],\n",
       "   [{'alpha': 0.5}, {'alpha': 0.1}, {'alpha': 0.1}, {'alpha': 0.1}],\n",
       "   [{'alpha': 0.5}, {'alpha': 0.1}, {'alpha': 0.1}, {'alpha': 0.3}],\n",
       "   [{'alpha': 0.5}, {'alpha': 0.1}, {'alpha': 0.1}, {'alpha': 0.5}],\n",
       "   [{'alpha': 0.5}, {'alpha': 0.1}, {'alpha': 0.3}, {'alpha': 0.1}],\n",
       "   [{'alpha': 0.5}, {'alpha': 0.1}, {'alpha': 0.3}, {'alpha': 0.3}],\n",
       "   [{'alpha': 0.5}, {'alpha': 0.1}, {'alpha': 0.3}, {'alpha': 0.5}],\n",
       "   [{'alpha': 0.5}, {'alpha': 0.1}, {'alpha': 0.5}, {'alpha': 0.1}],\n",
       "   [{'alpha': 0.5}, {'alpha': 0.1}, {'alpha': 0.5}, {'alpha': 0.3}],\n",
       "   [{'alpha': 0.5}, {'alpha': 0.1}, {'alpha': 0.5}, {'alpha': 0.5}],\n",
       "   [{'alpha': 0.5}, {'alpha': 0.3}, {'alpha': 0.1}, {'alpha': 0.1}],\n",
       "   [{'alpha': 0.5}, {'alpha': 0.3}, {'alpha': 0.1}, {'alpha': 0.3}],\n",
       "   [{'alpha': 0.5}, {'alpha': 0.3}, {'alpha': 0.1}, {'alpha': 0.5}],\n",
       "   [{'alpha': 0.5}, {'alpha': 0.3}, {'alpha': 0.3}, {'alpha': 0.1}],\n",
       "   [{'alpha': 0.5}, {'alpha': 0.3}, {'alpha': 0.3}, {'alpha': 0.3}],\n",
       "   [{'alpha': 0.5}, {'alpha': 0.3}, {'alpha': 0.3}, {'alpha': 0.5}],\n",
       "   [{'alpha': 0.5}, {'alpha': 0.3}, {'alpha': 0.5}, {'alpha': 0.1}],\n",
       "   [{'alpha': 0.5}, {'alpha': 0.3}, {'alpha': 0.5}, {'alpha': 0.3}],\n",
       "   [{'alpha': 0.5}, {'alpha': 0.3}, {'alpha': 0.5}, {'alpha': 0.5}],\n",
       "   [{'alpha': 0.5}, {'alpha': 0.5}, {'alpha': 0.1}, {'alpha': 0.1}],\n",
       "   [{'alpha': 0.5}, {'alpha': 0.5}, {'alpha': 0.1}, {'alpha': 0.3}],\n",
       "   [{'alpha': 0.5}, {'alpha': 0.5}, {'alpha': 0.1}, {'alpha': 0.5}],\n",
       "   [{'alpha': 0.5}, {'alpha': 0.5}, {'alpha': 0.3}, {'alpha': 0.1}],\n",
       "   [{'alpha': 0.5}, {'alpha': 0.5}, {'alpha': 0.3}, {'alpha': 0.3}],\n",
       "   [{'alpha': 0.5}, {'alpha': 0.5}, {'alpha': 0.3}, {'alpha': 0.5}],\n",
       "   [{'alpha': 0.5}, {'alpha': 0.5}, {'alpha': 0.5}, {'alpha': 0.1}],\n",
       "   [{'alpha': 0.5}, {'alpha': 0.5}, {'alpha': 0.5}, {'alpha': 0.3}],\n",
       "   [{'alpha': 0.5}, {'alpha': 0.5}, {'alpha': 0.5}, {'alpha': 0.5}]]}]"
      ]
     },
     "execution_count": 158,
     "metadata": {},
     "output_type": "execute_result"
    }
   ],
   "source": [
    "param_grid = gen_kmcm_p_grid([2, 3, 4], {'alpha': [0.1, 0.3, 0.5]})\n",
    "param_grid"
   ]
  },
  {
   "cell_type": "code",
   "execution_count": 159,
   "metadata": {},
   "outputs": [
    {
     "name": "stderr",
     "output_type": "stream",
     "text": [
      "/home/dilly/.local/lib/python3.6/site-packages/sklearn/linear_model/coordinate_descent.py:492: ConvergenceWarning: Objective did not converge. You might want to increase the number of iterations. Fitting data with very small alpha may cause precision problems.\n",
      "  ConvergenceWarning)\n"
     ]
    },
    {
     "data": {
      "text/plain": [
       "GridSearchCV(cv=5, error_score='raise-deprecating',\n",
       "       estimator=KMCMulti(estimator_params=None, n_clusters=3, seed=1234,\n",
       "     use_estimator=Lasso(alpha=1.0, copy_X=True, fit_intercept=True, max_iter=1000,\n",
       "   normalize=False, positive=False, precompute=False, random_state=1234,\n",
       "   selection='cyclic', tol=0.0001, warm_start=False)),\n",
       "       iid=False, n_jobs=-1,\n",
       "       param_grid=[{'n_clusters': [2], 'estimator_params': [[{'alpha': 0.1}, {'alpha': 0.1}], [{'alpha': 0.1}, {'alpha': 0.3}], [{'alpha': 0.1}, {'alpha': 0.5}], [{'alpha': 0.3}, {'alpha': 0.1}], [{'alpha': 0.3}, {'alpha': 0.3}], [{'alpha': 0.3}, {'alpha': 0.5}], [{'alpha': 0.5}, {'alpha': 0.1}], [{'alpha'...{'alpha': 0.5}, {'alpha': 0.3}], [{'alpha': 0.5}, {'alpha': 0.5}, {'alpha': 0.5}, {'alpha': 0.5}]]}],\n",
       "       pre_dispatch='2*n_jobs', refit=True, return_train_score=False,\n",
       "       scoring='neg_mean_squared_error', verbose=0)"
      ]
     },
     "execution_count": 159,
     "metadata": {},
     "output_type": "execute_result"
    }
   ],
   "source": [
    "gs = GridSearchCV(cv=5, \n",
    "                  iid=False, \n",
    "                  n_jobs=-1, \n",
    "                  scoring='neg_mean_squared_error', \n",
    "                  param_grid=param_grid,\n",
    "                  estimator=KMCMulti(seed=1234, use_estimator=Lasso(random_state=1234))\n",
    "                 )\n",
    "\n",
    "gs.fit(d.X_train_ss_, d.y_train_)"
   ]
  },
  {
   "cell_type": "code",
   "execution_count": 160,
   "metadata": {},
   "outputs": [
    {
     "data": {
      "text/plain": [
       "{'estimator_params': [{'alpha': 0.1}, {'alpha': 0.1}, {'alpha': 0.1}],\n",
       " 'n_clusters': 3}"
      ]
     },
     "execution_count": 160,
     "metadata": {},
     "output_type": "execute_result"
    }
   ],
   "source": [
    "gs.best_params_"
   ]
  },
  {
   "cell_type": "markdown",
   "metadata": {},
   "source": [
    "Nice, seems to be working well... Now I will just move it to its own module so that I can use it in the prediction performance work."
   ]
  }
 ],
 "metadata": {
  "kernelspec": {
   "display_name": "Python 3",
   "language": "python",
   "name": "python3"
  },
  "language_info": {
   "codemirror_mode": {
    "name": "ipython",
    "version": 3
   },
   "file_extension": ".py",
   "mimetype": "text/x-python",
   "name": "python",
   "nbconvert_exporter": "python",
   "pygments_lexer": "ipython3",
   "version": "3.6.8"
  }
 },
 "nbformat": 4,
 "nbformat_minor": 2
}
