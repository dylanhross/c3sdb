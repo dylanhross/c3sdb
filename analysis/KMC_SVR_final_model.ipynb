{
 "cells": [
  {
   "cell_type": "code",
   "execution_count": 1,
   "metadata": {},
   "outputs": [],
   "source": [
    "%matplotlib inline\n",
    "%config InlineBackend.figure_format = 'retina'\n",
    "from matplotlib import pyplot as plt\n",
    "from matplotlib.gridspec import GridSpec\n",
    "from sklearn.metrics import mean_squared_error, r2_score\n",
    "from sklearn.model_selection import GridSearchCV\n",
    "from sklearn.svm import SVR\n",
    "from matplotlib import rcParams\n",
    "from numpy import mean, median, abs, sum, cumsum, histogram, sqrt\n",
    "\n",
    "rcParams['font.size'] = 6\n",
    "\n",
    "from C3SData.data import C3SD\n",
    "from kmcm import KMCMulti, kmcm_p_grid"
   ]
  },
  {
   "cell_type": "code",
   "execution_count": 10,
   "metadata": {},
   "outputs": [],
   "source": [
    "def metrics(model, data):\n",
    "    \"\"\"\n",
    "metrics\n",
    "    description:\n",
    "        computes a standard set of performance metrics using a trained model and dataset\n",
    "            * training and test set R-squared (R2)\n",
    "            * training and test set root mean squared error (RMSE)\n",
    "            * training and test set mean absolute error (MAE)\n",
    "            * cumulative error distribution at the <1, <3, <5, and <10% levels\n",
    "              for training and test set (CE135A)\n",
    "\"\"\"\n",
    "    summary = {}\n",
    "    for s in ['train', 'test']:\n",
    "        if s == 'train':\n",
    "            y = data.y_train_\n",
    "            y_pred = model.predict(data.X_train_ss_)\n",
    "        if s == 'test':\n",
    "            y = data.y_test_\n",
    "            y_pred = model.predict(data.X_test_ss_)\n",
    "            \n",
    "        # compute metrics\n",
    "        abs_y_err = abs(y_pred - y)\n",
    "        r2 = r2_score(y, y_pred)\n",
    "        mae = mean(abs_y_err)\n",
    "        mdae = median(abs_y_err)\n",
    "        rmse = sqrt(mean_squared_error(y, y_pred))\n",
    "        y_err_percent = 100. * abs_y_err / y\n",
    "        cum_err = cumsum(histogram(y_err_percent, [_ for _ in range(101)])[0])\n",
    "        cum_err = 100. * cum_err / sum(cum_err)\n",
    "        ce1, ce3, ce5, ceA = cum_err[0], cum_err[2], cum_err[4], cum_err[9]\n",
    "        summary[s] = {'R2': r2, 'MAE': mae, 'MDAE': mdae, 'RMSE': rmse, 'CE135A': [ce1, ce3, ce5, ceA]}\n",
    "    return summary\n",
    "   \n",
    "    \n",
    "def summary_figure(summary, r2_range=[0.95, 1.], save=None):\n",
    "    \"\"\"\n",
    "summary_figure\n",
    "    description:\n",
    "        produces a summary figure displaying the results from a trial\n",
    "    parameters:\n",
    "        [r2_range (list(float))] -- upper and lower bounds of R-squared y axis [optional, default=[0.95, 1.]]\n",
    "        [save (None or str)] -- if a filename is provided, save the figure (optional, default=None)\n",
    "\"\"\" \n",
    "    fig = plt.figure(figsize=(3.33, 1.75))\n",
    "    gs = GridSpec(1, 3, figure=fig, width_ratios=[1, 3, 5])\n",
    "    \n",
    "    # R-squared\n",
    "    ax1 = fig.add_subplot(gs[0])\n",
    "    rsq_trn = summary['train']['R2']\n",
    "    rsq_tst = summary['test']['R2']\n",
    "    w1 = 0.15\n",
    "    ax1.bar([1 - w1 / 2, 1 + w1 / 2], [rsq_trn, rsq_tst], color=['b', 'r'], width=w1)\n",
    "    for d in ['top', 'right']:\n",
    "        ax1.spines[d].set_visible(False)\n",
    "    ax1.set_xticks([])\n",
    "    ax1.set_ylabel(r'R$^2$')\n",
    "    ax1.set_ylim(r2_range)\n",
    "    ax1.set_xlim([0.75, 1.25])\n",
    "    \n",
    "    # MAE, MDAE and RMSE\n",
    "    ax2 = fig.add_subplot(gs[1])\n",
    "    mae_trn = summary['train']['MAE']\n",
    "    mae_tst = summary['test']['MAE']\n",
    "    mdae_trn = summary['train']['MDAE']\n",
    "    mdae_tst = summary['test']['MDAE']\n",
    "    mse_trn = summary['train']['RMSE']\n",
    "    mse_tst = summary['test']['RMSE']\n",
    "    ax2.bar([0.875, 1.125], [mae_trn, mae_tst], color=['b', 'r'], width=0.25)\n",
    "    ax2.bar([1.875, 2.125], [mdae_trn, mdae_tst], color=['b', 'r'], width=0.25)\n",
    "    ax2.bar([2.875, 3.125], [mse_trn, mse_tst], color=['b', 'r'], width=0.25)\n",
    "    for d in ['top', 'right']:\n",
    "        ax2.spines[d].set_visible(False)\n",
    "    ax2.set_xticks([1, 2, 3])\n",
    "    ax2.set_xticklabels(['MAE', 'MDAE', 'RMSE'], rotation='vertical')\n",
    "    ax2.set_ylabel(r'CCS (Å$^2$)')\n",
    "    \n",
    "    # CE135A\n",
    "    ax3 = fig.add_subplot(gs[2])\n",
    "    x1 = [_ - 0.125 for _ in range(1, 5)]\n",
    "    y1 = [100. * summary['train']['CE135A'][i] for i in range(4)]\n",
    "    x2 = [_ + 0.125 for _ in range(1, 5)]\n",
    "    y2 = [100. * summary['test']['CE135A'][i] for i in range(4)]\n",
    "    \n",
    "    ax3.bar(x1, y1, color='b', width=0.25)\n",
    "    ax3.bar(x2, y2, color='r', width=0.25)\n",
    "    \n",
    "    for d in ['top', 'right']:\n",
    "        ax3.spines[d].set_visible(False)\n",
    "    ax3.set_xlabel('pred. error (%)')\n",
    "    ax3.set_xticks([1, 2, 3, 4])\n",
    "    ax3.set_xticklabels(['<1', '<3', '<5', '<10'])\n",
    "    ax3.set_ylabel('proportion (%)')\n",
    "\n",
    "    \n",
    "    plt.tight_layout()\n",
    "    plt.savefig('kmcm_svr_final_perfsummary.png', dpi=400, bbox_inches='tight')\n",
    "    plt.show()"
   ]
  },
  {
   "cell_type": "code",
   "execution_count": 3,
   "metadata": {},
   "outputs": [],
   "source": [
    "data = C3SD('C3S.db', seed=2345)\n",
    "data.featurize()\n",
    "data.train_test_split('ccs')\n",
    "data.center_and_scale()\n",
    "kmcm_svr_p_grid = kmcm_p_grid([4], {'C': [2000, 4000, 8000], 'gamma': [0.0005, 0.001, 0.05]})\n",
    "kmcm_svr_gs = GridSearchCV(KMCMulti(seed=2345, use_estimator=SVR(cache_size=2048, tol=5e-4)), \n",
    "                           param_grid=kmcm_svr_p_grid, n_jobs=-1, cv=5, scoring='neg_mean_squared_error')"
   ]
  },
  {
   "cell_type": "code",
   "execution_count": 4,
   "metadata": {},
   "outputs": [
    {
     "data": {
      "text/plain": [
       "GridSearchCV(cv=5, error_score='raise-deprecating',\n",
       "             estimator=KMCMulti(estimator_params=None, n_clusters=3, seed=2345,\n",
       "                                use_estimator=SVR(C=1.0, cache_size=2048,\n",
       "                                                  coef0=0.0, degree=3,\n",
       "                                                  epsilon=0.1,\n",
       "                                                  gamma='auto_deprecated',\n",
       "                                                  kernel='rbf', max_iter=-1,\n",
       "                                                  shrinking=True, tol=0.0005,\n",
       "                                                  verbose=False)),\n",
       "             iid='warn', n_jobs=-1,\n",
       "             param_grid=[{'estimator_params': [[{'C': 2000, 'gamma': 0...\n",
       "                                                {'C': 2000, 'gamma': 0.0005}],\n",
       "                                               [{'C': 2000, 'gamma': 0.0005},\n",
       "                                                {'C': 2000, 'gamma': 0.0005},\n",
       "                                                {'C': 4000, 'gamma': 0.0005},\n",
       "                                                {'C': 2000, 'gamma': 0.001}],\n",
       "                                               [{'C': 2000, 'gamma': 0.0005},\n",
       "                                                {'C': 2000, 'gamma': 0.0005},\n",
       "                                                {'C': 4000, 'gamma': 0.0005},\n",
       "                                                {'C': 2000, 'gamma': 0.05}], ...],\n",
       "                          'n_clusters': [4]}],\n",
       "             pre_dispatch='2*n_jobs', refit=True, return_train_score=False,\n",
       "             scoring='neg_mean_squared_error', verbose=0)"
      ]
     },
     "execution_count": 4,
     "metadata": {},
     "output_type": "execute_result"
    }
   ],
   "source": [
    "kmcm_svr_gs.fit(data.X_train_ss_, data.y_train_)"
   ]
  },
  {
   "cell_type": "code",
   "execution_count": 5,
   "metadata": {},
   "outputs": [],
   "source": [
    "kmcm_svr_best = kmcm_svr_gs.best_estimator_"
   ]
  },
  {
   "cell_type": "code",
   "execution_count": 6,
   "metadata": {},
   "outputs": [
    {
     "data": {
      "text/plain": [
       "{'estimator_params': [{'C': 8000, 'gamma': 0.0005},\n",
       "  {'C': 4000, 'gamma': 0.0005},\n",
       "  {'C': 8000, 'gamma': 0.001},\n",
       "  {'C': 8000, 'gamma': 0.0005}],\n",
       " 'n_clusters': 4}"
      ]
     },
     "execution_count": 6,
     "metadata": {},
     "output_type": "execute_result"
    }
   ],
   "source": [
    "kmcm_svr_gs.best_params_\n"
   ]
  },
  {
   "cell_type": "code",
   "execution_count": 7,
   "metadata": {},
   "outputs": [],
   "source": [
    "import json\n",
    "\n",
    "    \n",
    "summary = metrics(kmcm_svr_best, data)\n",
    "\n",
    "with open('kmcm_svr_final_results.json', 'w') as f:\n",
    "    json.dump(summary, f, indent=4)"
   ]
  },
  {
   "cell_type": "code",
   "execution_count": 12,
   "metadata": {},
   "outputs": [
    {
     "data": {
      "image/png": "[encoded data removed]",
      "text/plain": [
       "<Figure size 239.76x126 with 3 Axes>"
      ]
     },
     "metadata": {
      "image/png": {
       "height": 126,
       "width": 238
      },
      "needs_background": "light"
     },
     "output_type": "display_data"
    }
   ],
   "source": [
    "rcParams['font.size'] = 6\n",
    "summary_figure(summary)"
   ]
  },
  {
   "cell_type": "code",
   "execution_count": 9,
   "metadata": {},
   "outputs": [],
   "source": [
    "import pickle\n",
    "\n",
    "\n",
    "with open('kmcm_svr_final_20191207.pickle', 'wb') as pf:\n",
    "    pickle.dump(kmcm_svr_best, pf)\n",
    "    \n",
    "with open('OHEncoder_20191207.pickle', 'wb') as ohe, open('LEncoder_20191207.pickle', 'wb') as le, open('SScaler_20191207.pickle', 'wb') as ss:\n",
    "    pickle.dump(data.OHEncoder_, ohe)\n",
    "    pickle.dump(data.LEncoder_, le)\n",
    "    pickle.dump(data.SScaler_, ss)\n"
   ]
  },
  {
   "cell_type": "code",
   "execution_count": null,
   "metadata": {},
   "outputs": [],
   "source": [
    "import sklearn\n",
    "print(sklearn.__version__)"
   ]
  },
  {
   "cell_type": "code",
   "execution_count": null,
   "metadata": {},
   "outputs": [],
   "source": []
  }
 ],
 "metadata": {
  "kernelspec": {
   "display_name": "Python 3",
   "language": "python",
   "name": "python3"
  },
  "language_info": {
   "codemirror_mode": {
    "name": "ipython",
    "version": 3
   },
   "file_extension": ".py",
   "mimetype": "text/x-python",
   "name": "python",
   "nbconvert_exporter": "python",
   "pygments_lexer": "ipython3",
   "version": "3.7.3"
  }
 },
 "nbformat": 4,
 "nbformat_minor": 2
}
